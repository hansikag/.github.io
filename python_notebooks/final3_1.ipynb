{
 "cells": [
  {
   "cell_type": "code",
   "execution_count": 6,
   "metadata": {},
   "outputs": [
    {
     "data": {
      "application/vnd.jupyter.widget-view+json": {
       "model_id": "8a42f90d632c4589a7f8519f4780bd3b",
       "version_major": 2,
       "version_minor": 0
      },
      "text/plain": [
       "Figure(axes=[Axis(scale=OrdinalScale()), Axis(orientation='vertical', scale=LinearScale())], fig_margin={'top'…"
      ]
     },
     "metadata": {},
     "output_type": "display_data"
    },
    {
     "data": {
      "application/vnd.jupyter.widget-view+json": {
       "model_id": "ab091f94514e4e5381292fb88475a0d2",
       "version_major": 2,
       "version_minor": 0
      },
      "text/plain": [
       "Dropdown(description='Stat:', options=('total', 'hp', 'attack', 'defense', 'sp_attack', 'sp_defense', 'speed')…"
      ]
     },
     "metadata": {},
     "output_type": "display_data"
    }
   ],
   "source": [
    "# import pandas as pd\n",
    "import numpy as np\n",
    "import bqplot as bq\n",
    "import ipywidgets as widgets\n",
    "\n",
    "# Step 1: Read the Pokemon dataset\n",
    "df = pd.read_csv('/Users/hansika/hansikag.github.io/_data/Pokemon (2).csv')\n",
    "df\n",
    "\n",
    "# Correcting 'Graass' to 'Grass'\n",
    "df['type1'] = df['type1'].replace('Graass', 'Grass')\n",
    "\n",
    "# If 'Blastoise' is in your 'type1' column and it's incorrect, you can replace it too\n",
    "df['type1'] = df['type1'].replace('Blastoise', 'Water')  # Replace with the correct type if known\n",
    "df['legendary'] = df['legendary'].astype(str)\n",
    "df\n",
    "\n",
    "# Group the data by 'type1' and calculate the mean of 'total'\n",
    "grouped = df.groupby('type1')['total'].mean()\n",
    "\n",
    "# Create a bar chart\n",
    "x_sc = bq.OrdinalScale()\n",
    "y_sc = bq.LinearScale()\n",
    "\n",
    "bar_chart = bq.Bars(x=grouped.index, y=grouped.values, scales={'x': x_sc, 'y': y_sc})\n",
    "ax_x = bq.Axis(scale=x_sc)\n",
    "ax_y = bq.Axis(scale=y_sc, orientation='vertical')\n",
    "\n",
    "fig = bq.Figure(marks=[bar_chart], axes=[ax_x, ax_y])\n",
    "display(fig)\n",
    "\n",
    "# Create a dropdown widget\n",
    "dropdown = widgets.Dropdown(\n",
    "    options=['total', 'hp', 'attack', 'defense', 'sp_attack', 'sp_defense', 'speed'],\n",
    "    value='total',\n",
    "    description='Stat:',\n",
    ")\n",
    "\n",
    "# Update function for the dropdown interaction\n",
    "def update(change):\n",
    "    new_stat = dropdown.value\n",
    "    grouped = df.groupby('type1')[new_stat].mean()\n",
    "    bar_chart.x = grouped.index\n",
    "    bar_chart.y = grouped.values\n",
    "\n",
    "dropdown.observe(update, 'value')\n",
    "display(dropdown)\n"
   ]
  }
 ],
 "metadata": {
  "kernelspec": {
   "display_name": "Python 3",
   "language": "python",
   "name": "python3"
  },
  "language_info": {
   "codemirror_mode": {
    "name": "ipython",
    "version": 3
   },
   "file_extension": ".py",
   "mimetype": "text/x-python",
   "name": "python",
   "nbconvert_exporter": "python",
   "pygments_lexer": "ipython3",
   "version": "3.11.2"
  },
  "orig_nbformat": 4
 },
 "nbformat": 4,
 "nbformat_minor": 2
}
